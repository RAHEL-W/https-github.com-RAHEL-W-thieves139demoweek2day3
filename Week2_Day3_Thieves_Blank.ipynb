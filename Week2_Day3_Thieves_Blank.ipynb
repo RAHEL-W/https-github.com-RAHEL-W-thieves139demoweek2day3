{
 "cells": [
  {
   "cell_type": "markdown",
   "metadata": {},
   "source": [
    "# Data Collections 2 (Dictionaries, Sets) and Importing Modules"
   ]
  },
  {
   "cell_type": "markdown",
   "metadata": {},
   "source": [
    "## Tasks Today:\n",
    "\n",
    "1) Dictionary <br>\n",
    " &nbsp;&nbsp;&nbsp;&nbsp; a) Declaring (key, value) <br>\n",
    " &nbsp;&nbsp;&nbsp;&nbsp; b) Accessing Values <br>\n",
    " &nbsp;&nbsp;&nbsp;&nbsp; ------ Exercise #1 - Print the eye color of each person in a double nested dict <br>\n",
    " &nbsp;&nbsp;&nbsp;&nbsp; c) Adding New Pairs <br>\n",
    " &nbsp;&nbsp;&nbsp;&nbsp; d) Modifying Values <br>\n",
    " &nbsp;&nbsp;&nbsp;&nbsp; e) Removing Key, Value Pairs <br>\n",
    " &nbsp;&nbsp;&nbsp;&nbsp; f) Looping a Dictionary <br>\n",
    " &nbsp;&nbsp;&nbsp;&nbsp; g) Looping Only Keys <br>\n",
    " &nbsp;&nbsp;&nbsp;&nbsp; h) Looping Only Values <br>\n",
    " &nbsp;&nbsp;&nbsp;&nbsp; ------ Exercise #2 - Create a Function that Prints All Key Value Pairs within a print .format()  <br>\n",
    " &nbsp;&nbsp;&nbsp;&nbsp; i) sorted() <br>\n",
    " &nbsp;&nbsp;&nbsp;&nbsp; j) Lists with Dictionaries <br>\n",
    " &nbsp;&nbsp;&nbsp;&nbsp; k) Dictionaries with Lists <br>\n",
    " &nbsp;&nbsp;&nbsp;&nbsp; l) Dictionaries with Dictionaries <br>\n",
    " &nbsp;&nbsp;&nbsp;&nbsp; ------ Exercise #3 - Write a Function that asks someone's name and address, and then stores that into a dictionary, which prints all names and addresses after they're done putting information in...  <br>\n",
    "2) Dictionaries vs. Lists (over time)<br>\n",
    "3) Set <br>\n",
    " &nbsp;&nbsp;&nbsp;&nbsp; a) Declaring <br>\n",
    " &nbsp;&nbsp;&nbsp;&nbsp; b) .add() <br>\n",
    " &nbsp;&nbsp;&nbsp;&nbsp; c) .remove() <br>\n",
    " &nbsp;&nbsp;&nbsp;&nbsp; d) .union() <br>\n",
    " &nbsp;&nbsp;&nbsp;&nbsp; e) .intersection() <br>\n",
    " &nbsp;&nbsp;&nbsp;&nbsp; f) .difference() <br>\n",
    " &nbsp;&nbsp;&nbsp;&nbsp; g) Frozen Set <br>\n",
    "4) Modules <br>\n",
    " &nbsp;&nbsp;&nbsp;&nbsp; a) Importing Entire Modules <br>\n",
    " &nbsp;&nbsp;&nbsp;&nbsp; b) Importing Methods Only <br>\n",
    " &nbsp;&nbsp;&nbsp;&nbsp; c) Using the 'as' Keyword <br>\n",
    " &nbsp;&nbsp;&nbsp;&nbsp; d) Creating a Module <br>\n",
    "5) Exercises <br>\n",
    " &nbsp;&nbsp;&nbsp;&nbsp; a) Build a Shopping Cart <br>\n",
    " &nbsp;&nbsp;&nbsp;&nbsp; b) Create Your Own Module <br>"
   ]
  },
  {
   "cell_type": "markdown",
   "metadata": {},
   "source": [
    "## Dictionary <br>\n",
    "<p>A collection of data with 'key:value' pairs. Dictionaries are ordered as of Python 3.6</p>"
   ]
  },
  {
   "cell_type": "markdown",
   "metadata": {},
   "source": [
    "##### Declaring (key, value)"
   ]
  },
  {
   "cell_type": "code",
   "execution_count": null,
   "metadata": {},
   "outputs": [],
   "source": []
  },
  {
   "cell_type": "markdown",
   "metadata": {},
   "source": [
    "##### Accessing Values"
   ]
  },
  {
   "cell_type": "code",
   "execution_count": null,
   "metadata": {},
   "outputs": [],
   "source": []
  },
  {
   "cell_type": "markdown",
   "metadata": {},
   "source": [
    "## In-Class Exercise #1 - Print a formatted statement from the dictionary below <br>\n",
    "<p>The output should be '2018 Chevrolet Silverado'</p>"
   ]
  },
  {
   "cell_type": "code",
   "execution_count": 3,
   "metadata": {},
   "outputs": [
    {
     "name": "stdout",
     "output_type": "stream",
     "text": [
      "2018 Chevrolet Silverado\n"
     ]
    }
   ],
   "source": [
    "# use the dict below\n",
    "truck = {\n",
    "    'year': 2018,\n",
    "    'make': 'Chevrolet',\n",
    "    'model': 'Silverado'\n",
    "}\n",
    "print(f\"{truck['year']} {truck['make']} {truck['model']}\")"
   ]
  },
  {
   "cell_type": "markdown",
   "metadata": {},
   "source": [
    "##### Adding New Pairs"
   ]
  },
  {
   "cell_type": "code",
   "execution_count": 10,
   "metadata": {},
   "outputs": [
    {
     "name": "stdout",
     "output_type": "stream",
     "text": [
      "{'year': 2018, 'make': 'Chevrolet', 'model': 'Silverado', 'fav-food': 'pizza'}\n"
     ]
    }
   ],
   "source": [
    "user = {\n",
    "    'year': 2018,\n",
    "    'make': 'Chevrolet',\n",
    "    'model': 'Silverado'\n",
    "}\n",
    "user['fav-food'] = 'pizza'\n",
    "\n",
    "print(user)\n"
   ]
  },
  {
   "cell_type": "markdown",
   "metadata": {},
   "source": [
    "##### Modifying Values"
   ]
  },
  {
   "cell_type": "code",
   "execution_count": 11,
   "metadata": {},
   "outputs": [
    {
     "name": "stdout",
     "output_type": "stream",
     "text": [
      "{'year': '2023', 'make': 'Chevrolet', 'model': 'Silverado', 'fav-food': 'pizza'}\n"
     ]
    }
   ],
   "source": [
    "truck = {\n",
    "    'year': 2018,\n",
    "    'make': 'Chevrolet',\n",
    "    'model': 'Silverado'\n",
    "}\n",
    "user['year'] = '2023'\n",
    "\n",
    "print(user)"
   ]
  },
  {
   "cell_type": "markdown",
   "metadata": {},
   "source": [
    "##### Removing Key, Value Pairs"
   ]
  },
  {
   "cell_type": "code",
   "execution_count": 12,
   "metadata": {},
   "outputs": [
    {
     "name": "stdout",
     "output_type": "stream",
     "text": [
      "{'year': '2023', 'make': 'Chevrolet', 'fav-food': 'pizza'}\n"
     ]
    }
   ],
   "source": [
    "truck = {\n",
    "    'year': 2018,\n",
    "    'make': 'Chevrolet',\n",
    "    'model': 'Silverado'\n",
    "}\n",
    "\n",
    "del user['model']\n",
    "\n",
    "print(user)"
   ]
  },
  {
   "cell_type": "markdown",
   "metadata": {},
   "source": [
    "##### Looping a Dictionary"
   ]
  },
  {
   "cell_type": "code",
   "execution_count": 14,
   "metadata": {},
   "outputs": [
    {
     "name": "stdout",
     "output_type": "stream",
     "text": [
      "my year is 2023\n",
      "my make is Chevrolet\n",
      "my fav-food is pizza\n"
     ]
    }
   ],
   "source": [
    "# .items()\n",
    "truck = {\n",
    "    'year': 2018,\n",
    "    'make': 'Chevrolet',\n",
    "    'model': 'Silverado'\n",
    "}\n",
    "\n",
    "for key, value in user.items():\n",
    "    print(f\"my {key} is {value}\")\n"
   ]
  },
  {
   "cell_type": "markdown",
   "metadata": {},
   "source": [
    "##### Looping Only Keys"
   ]
  },
  {
   "cell_type": "code",
   "execution_count": 15,
   "metadata": {},
   "outputs": [
    {
     "name": "stdout",
     "output_type": "stream",
     "text": [
      "year\n",
      "make\n",
      "fav-food\n"
     ]
    }
   ],
   "source": [
    "# .keys()\n",
    "\n",
    "truck = {\n",
    "    'year': 2018,\n",
    "    'make': 'Chevrolet',\n",
    "    'model': 'Silverado'\n",
    "}\n",
    "for key in user:\n",
    "\n",
    "    print(key)"
   ]
  },
  {
   "cell_type": "markdown",
   "metadata": {},
   "source": [
    "##### Looping Only Values"
   ]
  },
  {
   "cell_type": "code",
   "execution_count": 16,
   "metadata": {},
   "outputs": [
    {
     "name": "stdout",
     "output_type": "stream",
     "text": [
      "2023\n",
      "Chevrolet\n",
      "pizza\n"
     ]
    }
   ],
   "source": [
    "# .values()\n",
    "\n",
    "truck = {\n",
    "    'year': 2018,\n",
    "    'make': 'Chevrolet',\n",
    "    'model': 'Silverado'\n",
    "}\n",
    "\n",
    "for value in user.values():\n",
    "    print(value)"
   ]
  },
  {
   "cell_type": "markdown",
   "metadata": {},
   "source": [
    "## In-Class Exercise #2 - Create a Function that Prints All Key Value Pairs within a print .format() <br>\n",
    "<p><b>Output should be:</b><br>\n",
    "Max has blue eyes<br>\n",
    "Lilly has brown eyes<br>\n",
    "Barney has blue eyes<br>\n",
    "etc.\n",
    "</p>"
   ]
  },
  {
   "cell_type": "code",
   "execution_count": 4,
   "metadata": {},
   "outputs": [
    {
     "name": "stdout",
     "output_type": "stream",
     "text": [
      " Max has blue eyes\n",
      " Lilly has brown eyes\n",
      " Barney has blue eyes\n",
      " Larney has brown eyes\n",
      " Ted has purple eyes\n"
     ]
    }
   ],
   "source": [
    "# use the dict below\n",
    "\n",
    "people = {\n",
    "    'Max': 'blue',\n",
    "    'Lilly': 'brown',\n",
    "    'Barney': 'blue',\n",
    "    'Larney': 'brown',\n",
    "    'Ted': 'purple'\n",
    "}\n",
    "\n",
    "#for key, value in people.items():\n",
    "    #print(f\" {key} has {value} eyes\")\n",
    "    \n",
    "    #print(people.format(f\" {key} has {value} eyes\"))\n",
    "\n",
    "def eyes(peeps):\n",
    "    for key, value in people.items():\n",
    "        print(f\" {key} has {value} eyes\")\n",
    "\n",
    "eyes(people)    \n",
    "\n",
    "\n"
   ]
  },
  {
   "cell_type": "markdown",
   "metadata": {},
   "source": [
    "##### sorted()"
   ]
  },
  {
   "cell_type": "code",
   "execution_count": 26,
   "metadata": {},
   "outputs": [
    {
     "name": "stdout",
     "output_type": "stream",
     "text": [
      "['Barney', 'Larney', 'Lilly', 'Max', 'Ted']\n"
     ]
    }
   ],
   "source": [
    "# sorts variables in order\n",
    "# sorted(dict.values()) or dict.keys() or dict.items()\n",
    "\n",
    "\n",
    "people = {\n",
    "    'Max': 'blue',\n",
    "    'Lilly': 'brown',\n",
    "    'Barney': 'blue',\n",
    "    'Larney': 'brown',\n",
    "    'Ted': 'purple'\n",
    "}\n",
    "\n",
    "sorted_dict = sorted(people.items())\n",
    "print(sorted_dict)"
   ]
  },
  {
   "cell_type": "markdown",
   "metadata": {},
   "source": [
    "##### List with Dictionaries"
   ]
  },
  {
   "cell_type": "code",
   "execution_count": 33,
   "metadata": {},
   "outputs": [
    {
     "name": "stdout",
     "output_type": "stream",
     "text": [
      "tez\n",
      "christain\n"
     ]
    }
   ],
   "source": [
    "thieves = [{'ins1': 'christain', 'ins2': 'dylan'},'tommy', 'tez', 'micheal']\n",
    "print(thieves[2])\n",
    "print(thieves[0]['ins1'])"
   ]
  },
  {
   "cell_type": "markdown",
   "metadata": {},
   "source": [
    "##### Dictionaries with Lists"
   ]
  },
  {
   "cell_type": "code",
   "execution_count": 27,
   "metadata": {},
   "outputs": [
    {
     "name": "stdout",
     "output_type": "stream",
     "text": [
      "-----------thieves----------\n",
      "christain\n",
      "dylan\n",
      "-----------padawans----------\n",
      "dylan s\n",
      "brandat\n",
      "-----------rangers----------\n",
      "rylan\n",
      "alex\n"
     ]
    }
   ],
   "source": [
    "# be careful when using numbers as keys in dictionaries, don't confuse them with indexes\n",
    "coding_thieves={\n",
    "          'thieves' : ['christain','dylan'],\n",
    "          'padawans' : ['dylan s','brandat'],\n",
    "          'rangers' : ['rylan','alex'],\n",
    "}\n",
    "for keys,values in coding_thieves.items():\n",
    "   print(f'-----------{keys}----------')\n",
    "   for value in values:\n",
    "      print(value)\n",
    " "
   ]
  },
  {
   "cell_type": "markdown",
   "metadata": {},
   "source": [
    "##### Dictionaries with Dictionaries"
   ]
  },
  {
   "cell_type": "code",
   "execution_count": null,
   "metadata": {},
   "outputs": [],
   "source": [
    "# to get values, must traverse through keys\n",
    "menu = {\n",
    "    'omni':\n",
    "    {\n",
    "        'chicken salad': '15:00',\n",
    "        'burger': '200.00'\n",
    "    }\n",
    "   'carni': {\n",
    "        'chicken salad': '15:00',\n",
    "        'burger': '200.00'\n",
    "    }\n",
    "    'veggi':  \n",
    "    {\n",
    "        'chicken salad': '15:00',\n",
    "        'burger': '200.00'\n",
    "    }\n",
    "}\n",
    "\n",
    "me"
   ]
  },
  {
   "cell_type": "markdown",
   "metadata": {},
   "source": [
    "## Dictionaries vs. Lists (over time) Example of RUNTIME\n",
    "### When inputting values in a Dictionary vs List"
   ]
  },
  {
   "cell_type": "code",
   "execution_count": 36,
   "metadata": {},
   "outputs": [],
   "source": [
    "import time\n",
    "\n",
    "\n",
    "# generate fake dictionary\n",
    "d = {}\n",
    "\n",
    "for i in range(50000000):\n",
    "    d[i] = 'value'\n",
    "    \n",
    "\n",
    "# generate fake list\n",
    "big_list = [x for x in range(50000000)]"
   ]
  },
  {
   "cell_type": "code",
   "execution_count": 37,
   "metadata": {},
   "outputs": [
    {
     "name": "stdout",
     "output_type": "stream",
     "text": [
      "Elapsed time for list: 5.792223930358887\n",
      "Elapsed time for dictionary: 0.0001780986785888672\n"
     ]
    }
   ],
   "source": [
    "# tracking time for list\n",
    "start_time = time.time()\n",
    "\n",
    "if 49999999 in big_list:\n",
    "    pass\n",
    "end_time = time.time() - start_time\n",
    "\n",
    "print('Elapsed time for list: {}'.format(end_time))\n",
    "\n",
    "\n",
    "# tracking time for dictionary\n",
    "start_time = time.time()\n",
    "\n",
    "if 49999999 in d:\n",
    "    pass\n",
    "\n",
    "end_time = time.time() - start_time\n",
    "\n",
    "print('Elapsed time for dictionary: {}'.format(end_time))"
   ]
  },
  {
   "cell_type": "markdown",
   "metadata": {},
   "source": [
    "## Exercise #3 - Write a Function that asks someone's name and address, and then stores that into a dictionary, and continues to do so until they choose to 'quit'. Once they quit, the program should print all names and addresses. <br>\n",
    "<p>\n",
    "<b>Proper steps:</b><br>\n",
    "step 1: write a function that takes in information and stores it in a dictionary<br>\n",
    "step 2: define an empty dictionary to work with<br>\n",
    "step 3: create our loop, which asks the user for information until they quit<br>\n",
    "step 4: ask for the information, and store it into variables<br>\n",
    "step 5: check if the user types quit<br>\n",
    "step 5a: print out all information<br>\n",
    "step 5b: break out of the loop<br>\n",
    "step 6: if they didn't quit, add the information to the dictionary<br>\n",
    "step 7: invoke the function by calling it\n",
    "</p>"
   ]
  },
  {
   "cell_type": "code",
   "execution_count": 36,
   "metadata": {},
   "outputs": [
    {
     "name": "stdout",
     "output_type": "stream",
     "text": [
      "{'rich': 'sf'}\n",
      "rich lives at: sf\n"
     ]
    }
   ],
   "source": [
    "\n",
    "def fun ():\n",
    "    book={}\n",
    "    while True:\n",
    "        address= input(\"what is  your address\")\n",
    "        if address == 'quit':\n",
    "            break\n",
    "\n",
    "        name= input(\"what is  your name\")\n",
    "        if address == 'quit':\n",
    "            break\n",
    "\n",
    "        book[name]= address\n",
    "\n",
    "        print(book)\n",
    "\n",
    "        for person, address in book.items():\n",
    "         print(f\"{person} lives at: {address}\")\n",
    "fun()        "
   ]
  },
  {
   "cell_type": "markdown",
   "metadata": {},
   "source": [
    "## Set <br>\n",
    "<p>A Set is an unordered collection data type that is iterable (loop), mutable, and has no duplicate elements.<br>Major advantage is that it is highly optimized in checking if something is in the set, as opposed to checking if something is in a list.</p>"
   ]
  },
  {
   "cell_type": "markdown",
   "metadata": {},
   "source": [
    "##### Declaring"
   ]
  },
  {
   "cell_type": "code",
   "execution_count": 40,
   "metadata": {},
   "outputs": [
    {
     "name": "stdout",
     "output_type": "stream",
     "text": [
      "[1, 1, 1, 2, 2, 3, 4, 4, 4]\n",
      "{1, 2, 3, 4}\n"
     ]
    }
   ],
   "source": [
    "# set() or {}\n",
    "this = [1,1,1,2,2,3,4,4,4]\n",
    "that = set(this)\n",
    "print(this)\n",
    "print(that)\n",
    "new_set = {1,1,2}\n",
    "empty = set()\n"
   ]
  },
  {
   "cell_type": "markdown",
   "metadata": {},
   "source": [
    "##### .add()"
   ]
  },
  {
   "cell_type": "code",
   "execution_count": null,
   "metadata": {},
   "outputs": [],
   "source": [
    "# set.add()\n",
    "this = [1,1,1,2,2,3,4,4,4]"
   ]
  },
  {
   "cell_type": "markdown",
   "metadata": {},
   "source": [
    "##### .remove()"
   ]
  },
  {
   "cell_type": "code",
   "execution_count": null,
   "metadata": {},
   "outputs": [],
   "source": [
    "# removes by value\n",
    "# set.remove()\n",
    "# nums.remove(56)\n",
    "\n"
   ]
  },
  {
   "cell_type": "markdown",
   "metadata": {},
   "source": [
    "##### .union() "
   ]
  },
  {
   "cell_type": "code",
   "execution_count": 42,
   "metadata": {},
   "outputs": [
    {
     "name": "stdout",
     "output_type": "stream",
     "text": [
      "{1, 2, 3, 4, 6, 8, 78}\n"
     ]
    }
   ],
   "source": [
    "# Returns a union of two sets, can also use '|' or set.union(set)\n",
    "# joins all numbers, gets rid of duplicates\n",
    "this = {1,1,1,2,2,3,4,4,4}\n",
    "that = {1,6,78,8,2,3,4,4,4}\n",
    "thet= this.union(that)\n",
    "print(thet)"
   ]
  },
  {
   "cell_type": "markdown",
   "metadata": {},
   "source": [
    "##### .intersection()"
   ]
  },
  {
   "cell_type": "code",
   "execution_count": 45,
   "metadata": {},
   "outputs": [
    {
     "name": "stdout",
     "output_type": "stream",
     "text": [
      "{1, 2, 3, 4}\n"
     ]
    }
   ],
   "source": [
    "# Returns an intersection of two sets, can also use '&'\n",
    "# only takes similar elements from both sets\n",
    "\n",
    "this = {1,1,1,2,2,3,4,4,4}\n",
    "that = {1,6,78,8,2,3,4,4,4}\n",
    "thet= that.intersection(this)\n",
    "print(thet)"
   ]
  },
  {
   "cell_type": "markdown",
   "metadata": {},
   "source": [
    "##### .difference()"
   ]
  },
  {
   "cell_type": "code",
   "execution_count": 46,
   "metadata": {},
   "outputs": [
    {
     "name": "stdout",
     "output_type": "stream",
     "text": [
      "{1, 2, 3, 4}\n"
     ]
    }
   ],
   "source": [
    "# Returns a set containing all the elements of invoking set that are not in the second set, can also use '-'\n",
    "# only takes values from the first set that are not in the second set\n",
    "# order matters\n",
    "this = {1,1,1,2,2,3,4,4,4}\n",
    "that = {1,6,78,8,2,3,4,4,4}\n",
    "thet= that.intersection(this)\n",
    "print(thet)\n"
   ]
  },
  {
   "cell_type": "markdown",
   "metadata": {},
   "source": [
    "##### .clear()"
   ]
  },
  {
   "cell_type": "code",
   "execution_count": 47,
   "metadata": {},
   "outputs": [
    {
     "name": "stdout",
     "output_type": "stream",
     "text": [
      "set()\n"
     ]
    }
   ],
   "source": [
    "# Empties the whole set\n",
    "# set.clear()\n",
    "this = {1,1,1,2,2,3,4,4,4}\n",
    "that = {1,6,78,8,2,3,4,4,4}\n",
    "this.clear()\n",
    "print(this)"
   ]
  },
  {
   "cell_type": "markdown",
   "metadata": {},
   "source": [
    "##### Frozenset <br>\n",
    "<p>Frozen sets are immutable objects that only support methods and operators that produce a result without affecting the frozen set or sets to which they are applied.</p><br><b>Unique & Immutable</b>"
   ]
  },
  {
   "cell_type": "code",
   "execution_count": 50,
   "metadata": {},
   "outputs": [
    {
     "name": "stdout",
     "output_type": "stream",
     "text": [
      "frozenset({1, 2, 3, 4})\n",
      "frozenset({1, 2, 3, 4, 5, 6, 7, 8})\n"
     ]
    }
   ],
   "source": [
    "# frozenset([])\n",
    "set1= {1,2,3,4,4}\n",
    "set2={5,6,7,8,8}\n",
    "ser3 = frozenset(set1)\n",
    "print(ser3)\n",
    "set4 = ser3 | set2\n",
    "print(set4)"
   ]
  },
  {
   "cell_type": "markdown",
   "metadata": {},
   "source": [
    "## Modules"
   ]
  },
  {
   "cell_type": "markdown",
   "metadata": {},
   "source": [
    "##### Importing Entire Modules"
   ]
  },
  {
   "cell_type": "code",
   "execution_count": 51,
   "metadata": {},
   "outputs": [
    {
     "name": "stdout",
     "output_type": "stream",
     "text": [
      "3.141592653589793\n",
      "7\n"
     ]
    }
   ],
   "source": [
    "# import\n",
    "import math\n",
    "print(math.pi)\n",
    "print(math.floor(7.09))\n",
    "\n",
    "\n",
    "\n"
   ]
  },
  {
   "cell_type": "markdown",
   "metadata": {},
   "source": [
    "##### Importing Methods Only"
   ]
  },
  {
   "cell_type": "code",
   "execution_count": 54,
   "metadata": {},
   "outputs": [
    {
     "name": "stdout",
     "output_type": "stream",
     "text": [
      "3.141592653589793\n"
     ]
    },
    {
     "ename": "NameError",
     "evalue": "name 'round_up' is not defined",
     "output_type": "error",
     "traceback": [
      "\u001b[0;31m---------------------------------------------------------------------------\u001b[0m",
      "\u001b[0;31mNameError\u001b[0m                                 Traceback (most recent call last)",
      "Cell \u001b[0;32mIn[54], line 5\u001b[0m\n\u001b[1;32m      3\u001b[0m \u001b[38;5;28;01mimport\u001b[39;00m \u001b[38;5;21;01mmath\u001b[39;00m \u001b[38;5;28;01mas\u001b[39;00m \u001b[38;5;21;01mm\u001b[39;00m\n\u001b[1;32m      4\u001b[0m \u001b[38;5;28mprint\u001b[39m(m\u001b[38;5;241m.\u001b[39mpi)\n\u001b[0;32m----> 5\u001b[0m \u001b[38;5;28mprint\u001b[39m(round_up(\u001b[38;5;241m3.12\u001b[39m))\n",
      "\u001b[0;31mNameError\u001b[0m: name 'round_up' is not defined"
     ]
    }
   ],
   "source": [
    "# from 'xxx' import 'xxx'\n",
    "# from math import floor\n",
    "import math as m\n",
    "print(m.pi)\n",
    "print(round_up(3.12))\n",
    "\n"
   ]
  },
  {
   "cell_type": "markdown",
   "metadata": {},
   "source": [
    "##### Using the 'as' Keyword"
   ]
  },
  {
   "cell_type": "code",
   "execution_count": null,
   "metadata": {},
   "outputs": [],
   "source": [
    "# from 'xxx' import 'xxx' as 'xxx' or import 'xxx' as 'xxx'\n",
    "# from math import floor as f\n",
    "import math as m\n",
    "print(m.pi)"
   ]
  },
  {
   "cell_type": "markdown",
   "metadata": {},
   "source": [
    "##### Creating a Module"
   ]
  },
  {
   "cell_type": "code",
   "execution_count": null,
   "metadata": {},
   "outputs": [],
   "source": []
  },
  {
   "cell_type": "markdown",
   "metadata": {},
   "source": [
    "# Exercises"
   ]
  },
  {
   "cell_type": "markdown",
   "metadata": {},
   "source": [
    "### 1) Build a Shopping Cart <br>\n",
    "<p><b>The program should have the following capabilities:</b><br><br>\n",
    "\n",
    "1) using input() the user should be able to interact with your program<br>\n",
    "2) The user should be able to add items, remove items, and show their shopping cart<br>\n",
    "3) When adding they will add the item as well as the quantity to their cart dictionary<br>\n",
    "4) When removing items they should be able to remove specific quantities (if they had 3 apples and want to remove 2, 1 apple should remain in the cart)<br>\n",
    "5) When showing the cart you won't just print the dictionary, you'll print each item and how many their are (shouldn't see 0 of an item)<br>\n",
    "6) The program should continue to loop (asking add/remove/show) until the user 'quits'<br>\n",
    "7) Upon quiting the program, print out all items in the user's list <br>\n",
    "</p>"
   ]
  },
  {
   "cell_type": "code",
   "execution_count": 23,
   "metadata": {},
   "outputs": [
    {
     "name": "stdout",
     "output_type": "stream",
     "text": [
      "you have a and  24 quntite\n",
      "you have 12 and  12 quntite\n",
      "thanks for visiting us\n"
     ]
    }
   ],
   "source": [
    "# Ask the user four bits of input: Do you want to : Show/Add/Delete or Quit?\n",
    "\n",
    "cart = {}\n",
    "start= input('welcome to this store if you want to add items type a\" if you want remove item type\"r\" if you want see items type\"show\" but ypu want quit please type \"quit\" ') \n",
    "start.lower()\n",
    "while start != 'quit':\n",
    "     \n",
    "\n",
    "      if start == 'a':\n",
    "            key=input('what item do you want add to the cart type \"quit\" to quit')\n",
    "            value = int(input('how many do you want add  type \"a\" to quit'))\n",
    "            if key in  cart:\n",
    "                   cart[key]+= value \n",
    "                   value = cart[key]  \n",
    " \n",
    "            else :cart[key] = value\n",
    "\n",
    "      elif start == 'r' :\n",
    "            key=input('what item do you want remove type \"quit\" to quit  ')\n",
    "            value = int(input('how many do you want remove if you want Delete the item type\"00\" type \"quit\" to quit'))\n",
    "\n",
    "            if key in  cart:\n",
    "                  cart[key]-= value\n",
    "                  value =  cart[key]\n",
    "\n",
    "      elif start == 'show':\n",
    "\n",
    "            for keys, values in cart.items():\n",
    "                   if values  == 0:\n",
    "                         continue\n",
    "                   elif values  < 0:\n",
    "                    continue\n",
    "                \n",
    "                   print(f'you have {keys} and  {values} quntite')         \n",
    "       \n",
    "      start= input('if you want to add items type a\" if you want remove item type\"r\" if you want see items type\"show\" but ypu want quit please type \"quit\" ')       \n",
    "print('thanks for visiting us')\n"
   ]
  },
  {
   "cell_type": "code",
   "execution_count": null,
   "metadata": {},
   "outputs": [],
   "source": []
  },
  {
   "cell_type": "markdown",
   "metadata": {},
   "source": [
    "### 2) Create a Module in VS Code and Import It into jupyter notebook <br>\n",
    "<p><b>Module should have the following capabilities:</b><br><br>\n",
    "1) Has a function to calculate the square footage of a house <br>\n",
    "    <b>Reminder of Formula: Length X Width == Area<br>\n",
    "        <hr>\n",
    "2) Has a function to calculate the circumference of a circle <br><br>\n",
    "<b>Program in Jupyter Notebook should take in user input and use imported functions to calculate a circle's circumference or a houses square footage</b>\n",
    "</p>"
   ]
  },
  {
   "cell_type": "code",
   "execution_count": 24,
   "metadata": {},
   "outputs": [
    {
     "name": "stdout",
     "output_type": "stream",
     "text": [
      "you have a and  24 quntite\n",
      "you have a and  20 quntite\n",
      "you have a and  20 quntite\n",
      "thanks for visiting us\n"
     ]
    }
   ],
   "source": [
    "class Cart:\n",
    "    def __init__(self):\n",
    "       self.cart = {}\n",
    "\n",
    "\n",
    "    def my_cart(self):\n",
    "      start= input('welcome to this store if you want to add items type a\" if you want remove item type\"r\" if you want see items type\"show\" but ypu want quit please type \"quit\" ') \n",
    "      start.lower()\n",
    "      while start != 'quit':\n",
    "            if start == 'a':\n",
    "                self.add()\n",
    "            elif start == 'r':\n",
    "                self.remove()\n",
    "            elif start == 'show':\n",
    "                self.show()  \n",
    "            start= input('if you want to add items type a\" if you want remove item type\"r\" if you want see items type\"show\" but ypu want quit please type \"quit\" ')   \n",
    "      print('thanks for visiting us')        \n",
    "         \n",
    "    def add(self):\n",
    "              key=input('what item do you want add to the cart type \"quit\" to quit')\n",
    "              value = int(input('how many do you want add  type \"a\" to quit'))\n",
    "              if key in  self.cart:\n",
    "                   self.cart[key]+= value  \n",
    "                \n",
    "                   value = self.cart[key] \n",
    "              else: self.cart[key] = value\n",
    "\n",
    "    def remove(self):\n",
    "          key=input('what item do you want remove type \"quit\" to quit  ')\n",
    "          value = int(input('how many do you want remove if you want Delete the item type\"00\" type \"quit\" to quit'))\n",
    "\n",
    "          if key in  self.cart:\n",
    "                  self.cart[key]-= value\n",
    "                  value =  self.cart[key]\n",
    "\n",
    "    def show(self):\n",
    "        for keys, values in self.cart.items():\n",
    "            if values  == 0:\n",
    "                continue\n",
    "            elif values  < 0:\n",
    "                continue\n",
    "                \n",
    "            print(f'you have {keys} and  {values} quntite') \n",
    "monday_shopping = Cart()\n",
    "monday_shopping .my_cart()            \n",
    "\n"
   ]
  },
  {
   "cell_type": "markdown",
   "metadata": {},
   "source": [
    "#### 3) Reply to the thread in slack with your codewars username (case sensitive), if you don't have a codewars account please create one "
   ]
  },
  {
   "cell_type": "code",
   "execution_count": 5,
   "metadata": {},
   "outputs": [
    {
     "name": "stdout",
     "output_type": "stream",
     "text": [
      "you have aple and  4 quntite\n",
      "you have a and  4 quntite\n",
      "thanks for visiting us\n"
     ]
    }
   ],
   "source": [
    "\n"
   ]
  }
 ],
 "metadata": {
  "kernelspec": {
   "display_name": "Python 3",
   "language": "python",
   "name": "python3"
  },
  "language_info": {
   "codemirror_mode": {
    "name": "ipython",
    "version": 3
   },
   "file_extension": ".py",
   "mimetype": "text/x-python",
   "name": "python",
   "nbconvert_exporter": "python",
   "pygments_lexer": "ipython3",
   "version": "3.11.5"
  },
  "vscode": {
   "interpreter": {
    "hash": "aa82987a71ca0339a52998cd22613b0c002bda8349fa32a0cb67ceec3936a2bf"
   }
  }
 },
 "nbformat": 4,
 "nbformat_minor": 2
}
